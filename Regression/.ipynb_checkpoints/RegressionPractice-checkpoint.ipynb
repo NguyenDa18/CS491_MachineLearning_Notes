{
 "cells": [
  {
   "cell_type": "code",
   "execution_count": 21,
   "metadata": {
    "collapsed": false
   },
   "outputs": [
    {
     "name": "stdout",
     "output_type": "stream",
     "text": [
      "1723 0.5323275862068966\n",
      "0.1665699361578642 0.5323275862068966\n",
      "0.562971561230412 0.5323275862068966\n",
      "2941192983782.235\n"
     ]
    },
    {
     "data": {
      "text/plain": [
       "2941192983782.235"
      ]
     },
     "execution_count": 21,
     "metadata": {},
     "output_type": "execute_result"
    }
   ],
   "source": [
    "import matplotlib.pyplot as plt\n",
    "import numpy as np\n",
    "import pandas as pd\n",
    "\n",
    "X = [1723, 0.1665699361578642, 0.562971561230412]\n",
    "Y = [0.5323275862068966, 0.5323275862068966, 0.5323275862068966]\n",
    "\n",
    "mse(X,Y)"
   ]
  },
  {
   "cell_type": "code",
   "execution_count": 22,
   "metadata": {
    "collapsed": true
   },
   "outputs": [],
   "source": [
    "def mse(X, Y):\n",
    "    b2 = 1.0\n",
    "    b1 = 1.0\n",
    "    b0 = -0.5\n",
    "    ERROR = 0\n",
    "    \n",
    "    for (row, col) in zip(X, Y):\n",
    "        print(row, col)\n",
    "        ERROR = ERROR + ((b2*row**2 + b1*row+b0 - col)**2)\n",
    "    print(ERROR / 3)\n",
    "    return ERROR / 3"
   ]
  },
  {
   "cell_type": "code",
   "execution_count": null,
   "metadata": {
    "collapsed": true
   },
   "outputs": [],
   "source": []
  }
 ],
 "metadata": {
  "kernelspec": {
   "display_name": "Python 3",
   "language": "python",
   "name": "python3"
  },
  "language_info": {
   "codemirror_mode": {
    "name": "ipython",
    "version": 3
   },
   "file_extension": ".py",
   "mimetype": "text/x-python",
   "name": "python",
   "nbconvert_exporter": "python",
   "pygments_lexer": "ipython3",
   "version": "3.5.2"
  }
 },
 "nbformat": 4,
 "nbformat_minor": 1
}
