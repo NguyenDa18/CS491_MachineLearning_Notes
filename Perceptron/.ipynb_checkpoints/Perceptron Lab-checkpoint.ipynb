{
 "cells": [
  {
   "cell_type": "markdown",
   "metadata": {},
   "source": [
    "## How to build a binary classifier using a perceptron learning with step activation function. The following data represent two measurements x1 and x2 and a label (l) associated with the measurement.\n",
    "\n",
    "### Perceptron initial weights: w = (0.7,0.5,1)\n",
    "- The following data represent two measurements x1 and x2 and a label (l) associated with the measurement.\n",
    "\n"
   ]
  },
  {
   "cell_type": "markdown",
   "metadata": {},
   "source": [
    "num | label | $ x_1 $ | $ x_2 $\n",
    "--- | --- | --- | ---\n",
    "1 | 0 | -1 | 2\n",
    "2 | 1 | 1 | 1\n",
    "3 | 1 | -2 | -1\n",
    "4 | 0 | -2 | -1\n",
    "5 | 0 | 1 | -1"
   ]
  },
  {
   "cell_type": "markdown",
   "metadata": {},
   "source": [
    "1. Since the perceptron with linear activation function defines a 1D hyperplane that separates the labeled data, given model’s initial parameters w = (0.7, 0.5, 1)\n",
    "    - a. what is the line’s slope:\n",
    "    - b. what is the line’s intersect:\n",
    "    - c. draw the perceptron line in the picture above.\n",
    "2. Calculate model’s accuracy for all data points 1-5, show your work:"
   ]
  },
  {
   "cell_type": "markdown",
   "metadata": {},
   "source": [
    "## Line's Slope\n",
    "\n",
    "- Rewrite [bias, w0, w1]:\n",
    "$ [w_0, w_1, w_2] = [0.7,0.5,1] $\n",
    "\n",
    "- Plug the weights into the general form $ (w_0 + w_1x_1 + w_2x_2 = 0) $ and solve for $ x_1, x_1=0, x_1, x_2=0 $:\n",
    "    - x = $ (-w_0 - w_2x_2) / w1 $  \n",
    "    - x = $ 0 when x_2 = -w_0/w_2  $\n",
    "    - $ x_2 $ = $ (-w_0 - w_1x_1)/w_2  $ \n",
    "    - $ x_2 $ = 0 when $ x_1 = -w_0/w_1 $\n",
    "\n",
    "- slope = $ (-w_0/w_2) / (w_0/w_1) $\n",
    "- intercept = $ -w_0/w_2 $\n"
   ]
  },
  {
   "cell_type": "markdown",
   "metadata": {},
   "source": [
    "## Slope = (-w0/w2) / (w0/w1) \n",
    "    = (-0.7 / 1) / (0.7 / 0.5) \n",
    "    = -0.7 / 1.4 \n",
    "## = -1/2 \n",
    "## intercept = w0 / w2\n",
    "    = 0.7 / 1\n",
    "## = 0.7\n",
    "\n",
    "## Regression line : y = -1/2x + 0.7"
   ]
  },
  {
   "cell_type": "markdown",
   "metadata": {},
   "source": [
    "# Accuracy\n",
    "Model accuracy calculated with MSE:\n",
    "- $ MSE = 1/N * sum((actual - predicted)^2)$\n",
    "- $ 1/5 * sum $"
   ]
  },
  {
   "cell_type": "markdown",
   "metadata": {},
   "source": [
    "num | x | actual | predicted | error | $ error^2 $\n",
    "--- | --- | --- | --- | --- | ---\n",
    "1 | -1 | 2 | $ -1/2*(-1) + 0.7 = 1.2 $ | 2 - 1.2 = 0.8 | 0.64\n",
    "2 | 1 | 1 | $ -1/2*(1) + 0.7 = 0.2 $ | 1 - 0.2 = 0.8 |0.64\n",
    "3 | -2 | -1 | $ -1/2*(-2) + 0.7 = 1.7 $ | -1 - 1.7 = -2.7 | -7.29\n",
    "4 | -2 | -1 | $ -1/2*(-2) + 0.7 = 1.7 $ | -1 - 1.7 = -2.7 | -7.29\n",
    "5 | 1 | -1 | $ -1/2*(1) + 0.7 = 0.2 $ | -1 - 0.2 = 1.2 | 1.44"
   ]
  },
  {
   "cell_type": "markdown",
   "metadata": {},
   "source": [
    "3) Adjust the model using the above data with a batch of 1. \n",
    "    - Step through the data in order, check the prediction and whenever you get a wrong prediction, adjust the model and keep going with the rest of the datapoints (stop and fix). Use the learning rate of 0.3.\n",
    "    - Go through the data only once.\n",
    "4) What is the model accuracy after step (3)? \n",
    "    - Draw the classification hyperplane."
   ]
  },
  {
   "cell_type": "markdown",
   "metadata": {
    "collapsed": true
   },
   "source": [
    "# 3) Perceptron training : $ w_i := (mu * (target - predicted)*x_i)$"
   ]
  },
  {
   "cell_type": "code",
   "execution_count": null,
   "metadata": {
    "collapsed": true
   },
   "outputs": [],
   "source": []
  }
 ],
 "metadata": {
  "anaconda-cloud": {},
  "kernelspec": {
   "display_name": "Python 3",
   "language": "python",
   "name": "python3"
  },
  "language_info": {
   "codemirror_mode": {
    "name": "ipython",
    "version": 3
   },
   "file_extension": ".py",
   "mimetype": "text/x-python",
   "name": "python",
   "nbconvert_exporter": "python",
   "pygments_lexer": "ipython3",
   "version": "3.5.2"
  }
 },
 "nbformat": 4,
 "nbformat_minor": 1
}
