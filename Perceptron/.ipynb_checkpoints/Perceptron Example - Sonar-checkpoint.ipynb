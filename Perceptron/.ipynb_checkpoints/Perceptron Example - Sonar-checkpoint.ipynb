{
 "cells": [
  {
   "cell_type": "markdown",
   "metadata": {},
   "source": [
    "# Perceptron by Jason Brownlee\n",
    "- A neuron accepts input signals via dendrites which pass electrical signal down to cell body\n",
    "- Perceptron receives input signals from examples of training data that we weigh and combine in linear equation called the activation: \n",
    "```python\n",
    "activation = sum(weight_i * x_i) + bia\n",
    "```\n",
    "\n",
    "- Activation function transformed into output variable or prediction using transfer function like the step transfer function\n",
    "```python\n",
    "prediction = 1.0 if activation >= 0.0 else 0.0\n",
    "```\n",
    "\n",
    "- Thus Perceptron is great for binary classification probs where a linear equation can be used to separate the two classes\n",
    "\n",
    "- Weights of Perceptron must be estimated from training data using Stochastic Gradient Descent"
   ]
  },
  {
   "cell_type": "markdown",
   "metadata": {},
   "source": [
    "# Stochastic Gradient Descent\n",
    "- *Review* Gradient Descent is process of minimizing function by following gradients of the cost function\n",
    "- in ML we use SGD to evaluate + update weights every iteration to minimize error of model on our training data\n",
    "\n",
    "- Weights updated each iteration using the following equation:\n",
    "```python\n",
    "w = w + learning_rate * (expected - predicted) * x\n",
    "```"
   ]
  },
  {
   "cell_type": "markdown",
   "metadata": {},
   "source": [
    "# Sonar Dataset Binary Classification\n",
    "### 1. Make Predictions\n",
    "### 2. Train Network Weights\n",
    "### 3. Model Sonar Dataset"
   ]
  },
  {
   "cell_type": "markdown",
   "metadata": {},
   "source": [
    "# 1. Make Predictions"
   ]
  },
  {
   "cell_type": "code",
   "execution_count": 4,
   "metadata": {
    "collapsed": true
   },
   "outputs": [],
   "source": [
    "def predict(row, weights):\n",
    "    activation = weights[0]\n",
    "    for i in range(len(row)-1):\n",
    "        activation += weights[i + 1] * row[i]\n",
    "    return 1.0 if activation >= 0.0 else 0.0"
   ]
  },
  {
   "cell_type": "markdown",
   "metadata": {},
   "source": [
    "- Two inputs values (X1 & X2) and three weight values (bias, w1, w2). Activation equation we model for problem is:\n",
    "```python\n",
    "activation = (w1 * X1) + (w2 * X2) + bias\n",
    "```"
   ]
  },
  {
   "cell_type": "code",
   "execution_count": 3,
   "metadata": {
    "collapsed": false
   },
   "outputs": [
    {
     "name": "stdout",
     "output_type": "stream",
     "text": [
      "Expected=0, Predicted=0\n",
      "Expected=0, Predicted=0\n",
      "Expected=0, Predicted=0\n",
      "Expected=0, Predicted=0\n",
      "Expected=0, Predicted=0\n",
      "Expected=1, Predicted=1\n",
      "Expected=1, Predicted=1\n",
      "Expected=1, Predicted=1\n",
      "Expected=1, Predicted=1\n",
      "Expected=1, Predicted=1\n"
     ]
    }
   ],
   "source": [
    "# test predictions\n",
    "dataset = [[2.7810836,2.550537003,0],\n",
    "\t[1.465489372,2.362125076,0],\n",
    "\t[3.396561688,4.400293529,0],\n",
    "\t[1.38807019,1.850220317,0],\n",
    "\t[3.06407232,3.005305973,0],\n",
    "\t[7.627531214,2.759262235,1],\n",
    "\t[5.332441248,2.088626775,1],\n",
    "\t[6.922596716,1.77106367,1],\n",
    "\t[8.675418651,-0.242068655,1],\n",
    "\t[7.673756466,3.508563011,1]]\n",
    "weights = [-0.1, 0.20653640140000007, -0.23418117710000003]\n",
    "for row in dataset:\n",
    "    prediction = predict(row, weights)\n",
    "    print(\"Expected=%d, Predicted=%d\" % (row[-1], prediction))"
   ]
  },
  {
   "cell_type": "code",
   "execution_count": null,
   "metadata": {
    "collapsed": true
   },
   "outputs": [],
   "source": []
  }
 ],
 "metadata": {
  "anaconda-cloud": {},
  "kernelspec": {
   "display_name": "Python 3",
   "language": "python",
   "name": "python3"
  },
  "language_info": {
   "codemirror_mode": {
    "name": "ipython",
    "version": 3
   },
   "file_extension": ".py",
   "mimetype": "text/x-python",
   "name": "python",
   "nbconvert_exporter": "python",
   "pygments_lexer": "ipython3",
   "version": "3.5.2"
  }
 },
 "nbformat": 4,
 "nbformat_minor": 1
}
