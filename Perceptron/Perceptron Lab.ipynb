{
 "cells": [
  {
   "cell_type": "markdown",
   "metadata": {},
   "source": [
    "## How to build a binary classifier using a perceptron learning with step activation function. The following data represent two measurements x1 and x2 and a label (l) associated with the measurement.\n",
    "\n",
    "### Perceptron initial weights: w = (0.7,0.5,1)\n",
    "- The following data represent two measurements x1 and x2 and a label (l) associated with the measurement.\n",
    "\n"
   ]
  },
  {
   "cell_type": "markdown",
   "metadata": {},
   "source": [
    "num | label | $ x_1 $ | $ x_2 $\n",
    "--- | --- | --- | ---\n",
    "1 | 0 | -1 | 2\n",
    "2 | 1 | 1 | 1\n",
    "3 | 1 | -2 | -1\n",
    "4 | 0 | -2 | -1\n",
    "5 | 0 | 1 | -1"
   ]
  },
  {
   "cell_type": "markdown",
   "metadata": {},
   "source": [
    "1. Since the perceptron with linear activation function defines a 1D hyperplane that separates the labeled data, given model’s initial parameters w = (0.7, 0.5, 1)\n",
    "    - a. what is the line’s slope:\n",
    "    - b. what is the line’s intersect:\n",
    "    - c. draw the perceptron line in the picture above.\n",
    "2. Calculate model’s accuracy for all data points 1-5, show your work:"
   ]
  },
  {
   "cell_type": "markdown",
   "metadata": {},
   "source": [
    "## Line's Slope\n",
    "\n",
    "- Rewrite [bias, w0, w1]:\n",
    "$ [w_0, w_1, w_2] = [0.7,0.5,1] $\n",
    "\n",
    "- Plug the weights into the general form $ (w_0 + w_1x_1 + w_2x_2 = 0) $ and solve for $ x_1, x_1=0, x_1, x_2=0 $:\n",
    "    - x = $ (-w_0 - w_2x_2) / w1 $  \n",
    "    - x = $ 0 when x_2 = -w_0/w_2  $\n",
    "    - $ x_2 $ = $ (-w_0 - w_1x_1)/w_2  $ \n",
    "    - $ x_2 $ = 0 when $ x_1 = -w_0/w_1 $\n",
    "\n",
    "- slope = $ (-w_0/w_2) / (w_0/w_1) $\n",
    "- intercept = $ -w_0/w_2 $\n"
   ]
  },
  {
   "cell_type": "markdown",
   "metadata": {},
   "source": [
    "## Slope = (-w0/w2) / (w0/w1) \n",
    "    = (-0.7 / 1) / (0.7 / 0.5) \n",
    "    = -0.7 / 1.4 \n",
    "## = -1/2 \n",
    "## intercept = -w0 / w2\n",
    "    = 0.7 / 1\n",
    "## = -0.7\n",
    "\n",
    "## Regression line : y = -1/2x - 0.7"
   ]
  },
  {
   "cell_type": "markdown",
   "metadata": {},
   "source": [
    "# Accuracy\n",
    "Model accuracy calculated with MSE:\n",
    "- $ MSE = 1/N * sum((actual - predicted)^2)$\n",
    "- $ 1/5 * sum $"
   ]
  },
  {
   "cell_type": "markdown",
   "metadata": {},
   "source": [
    "num | x | actual | predicted | error | $ error^2 $\n",
    "--- | --- | --- | --- | --- | ---\n",
    "1 | -1 | 2 | $ -1/2*(-1) + 0.7 = 1.2 $ | 2 - 1.2 = 0.8 | 0.64\n",
    "2 | 1 | 1 | $ -1/2*(1) + 0.7 = 0.2 $ | 1 - 0.2 = 0.8 |0.64\n",
    "3 | -2 | -1 | $ -1/2*(-2) + 0.7 = 1.7 $ | -1 - 1.7 = -2.7 | -7.29\n",
    "4 | -2 | -1 | $ -1/2*(-2) + 0.7 = 1.7 $ | -1 - 1.7 = -2.7 | -7.29\n",
    "5 | 1 | -1 | $ -1/2*(1) + 0.7 = 0.2 $ | -1 - 0.2 = 1.2 | 1.44"
   ]
  },
  {
   "cell_type": "markdown",
   "metadata": {},
   "source": [
    "3) Adjust the model using the above data with a batch of 1. \n",
    "    - Step through the data in order, check the prediction and whenever you get a wrong prediction, adjust the model and keep going with the rest of the datapoints (stop and fix). Use the learning rate of 0.3.\n",
    "    - Go through the data only once.\n",
    "4) What is the model accuracy after step (3)? \n",
    "    - Draw the classification hyperplane."
   ]
  },
  {
   "cell_type": "markdown",
   "metadata": {
    "collapsed": true
   },
   "source": [
    "# 3) Perceptron training : $ w_i := (mu * (target - predicted)*x_i)$"
   ]
  },
  {
   "cell_type": "code",
   "execution_count": 3,
   "metadata": {
    "collapsed": false
   },
   "outputs": [
    {
     "name": "stdout",
     "output_type": "stream",
     "text": [
      "2.2\n",
      "[ 0.3 -0.3  0.6]\n",
      "Error:1.000000 charge:2.200000 predict:1.000000 L[i]:0.000000 \n",
      "1.6\n",
      "-1.6\n",
      "[-0.3  0.6  0.3]\n",
      "Error:-1.000000 charge:-1.600000 predict:0.000000 L[i]:1.000000 \n",
      "0.2\n",
      "[ 0.3 -0.6 -0.3]\n",
      "Error:1.000000 charge:0.200000 predict:1.000000 L[i]:0.000000 \n",
      "0.8\n",
      "[ 0.3  0.3 -0.3]\n",
      "Error:1.000000 charge:0.800000 predict:1.000000 L[i]:0.000000 \n",
      "Accuracy: 0.200000\n",
      "1.0\n",
      "[ 0.3 -0.3  0.6]\n",
      "Error:1.000000 charge:1.000000 predict:1.000000 L[i]:0.000000 \n",
      "0.7\n",
      "-1.9\n",
      "[-0.3  0.6  0.3]\n",
      "Error:-1.000000 charge:-1.900000 predict:0.000000 L[i]:1.000000 \n",
      "-0.1\n",
      "0.5\n",
      "[ 0.3  0.3 -0.3]\n",
      "Error:1.000000 charge:0.500000 predict:1.000000 L[i]:0.000000 \n",
      "Accuracy: 0.400000\n"
     ]
    },
    {
     "data": {
      "image/png": "[encoded data removed]",
      "text/plain": [
       "<matplotlib.figure.Figure at 0x11cd8ddd8>"
      ]
     },
     "metadata": {},
     "output_type": "display_data"
    }
   ],
   "source": [
    "import matplotlib.pyplot as plt\n",
    "import numpy as np\n",
    "import pandas as pd\n",
    "\n",
    "plt.xlabel('x1')\n",
    "plt.ylabel('x2')\n",
    "plt.title('Perceptron Lab 2')\n",
    "\n",
    "#data is label, x1, x2\n",
    "data = np.array([[0,-1,2],\n",
    "                 [1,1,1],\n",
    "                 [1,-2,-1],\n",
    "                 [0,-2,-1],\n",
    "                 [0,1,-1]])\n",
    "\n",
    "rows = data.shape[0]\n",
    "cols = data.shape[1]\n",
    "\n",
    "\n",
    "L  = data[:, 0]\n",
    "X1 = data[:, 1]\n",
    "X2 = data[:, 2]\n",
    "W  = np.array([0.7, 0.5, 1.0])\n",
    "mu = 0.3\n",
    "\n",
    "ax = plt.gca()  # gca stands for 'get current axis'\n",
    "ax.spines['right'].set_color('none')\n",
    "ax.spines['top'].set_color('none')\n",
    "ax.xaxis.set_ticks_position('bottom')\n",
    "ax.spines['bottom'].set_position(('data',0))\n",
    "ax.yaxis.set_ticks_position('left')\n",
    "ax.spines['left'].set_position(('data',0))\n",
    "\n",
    "\n",
    "plt.scatter(X1, X2, c=L)\n",
    "plt.plot (np.arange (-2.5,2.5,0.1), -W[0]/W[2] - W[1]/W[2] * np.arange(-2.5,2.5,0.1))\n",
    "\n",
    "for j in range(2): #epochs\n",
    "    accuracy = 0\n",
    "    for i in range(rows): #all data in set\n",
    "        charge = W[0] + np.sum(np.multiply(data[i, 1:], W[1:]))\n",
    "        print(charge)\n",
    "        predict = 1 if charge > 0 else 0\n",
    "        \n",
    "        if predict == L[i]:\n",
    "            accuracy +=1\n",
    "        else:\n",
    "            Error = predict - L[i]\n",
    "            W_t = W\n",
    "            X_t = np.concatenate(([1], data[i,1:])) #delta weights\n",
    "            W_t = np.multiply(mu, np.multiply(Error, X_t))\n",
    "            W = np.subtract(W, W_t)\n",
    "            print(W_t)\n",
    "            print(\"Error:%f charge:%f predict:%f L[i]:%f \"%(Error, charge, predict, L[i]))\n",
    "            plt.plot (np.arange (-2.5,2.5,0.1), -W[0]/W[2] - W[1]/W[2] * np.arange(-2.5,2.5,0.1))\n",
    "    print(\"Accuracy: %f\"%(float(accuracy)/rows))\n",
    "plt.show()\n"
   ]
  },
  {
   "cell_type": "code",
   "execution_count": null,
   "metadata": {
    "collapsed": true
   },
   "outputs": [],
   "source": []
  }
 ],
 "metadata": {
  "anaconda-cloud": {},
  "kernelspec": {
   "display_name": "Python 3",
   "language": "python",
   "name": "python3"
  },
  "language_info": {
   "codemirror_mode": {
    "name": "ipython",
    "version": 3
   },
   "file_extension": ".py",
   "mimetype": "text/x-python",
   "name": "python",
   "nbconvert_exporter": "python",
   "pygments_lexer": "ipython3",
   "version": "3.5.2"
  }
 },
 "nbformat": 4,
 "nbformat_minor": 1
}
