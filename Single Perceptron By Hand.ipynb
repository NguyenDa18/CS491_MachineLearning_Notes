{
 "cells": [
  {
   "cell_type": "markdown",
   "metadata": {},
   "source": [
    "# Perceptron\n",
    "- Input values $ (1,x_1,x_2,...,x_n) $\n",
    "- multiplied by respective weights\n",
    "$ (w_0, w_1, w_2,..., w_n) $\n",
    "- Entire expression is summed together inside the neuron\n",
    "$ (w_0 + x_1w_1 + x_2w_2 + ... + x_nw_n)  $\n",
    "- If sum is larger than specified threshold (activation function) step function outputs 1, otherwise outputs 0"
   ]
  },
  {
   "cell_type": "code",
   "execution_count": 35,
   "metadata": {
    "collapsed": false
   },
   "outputs": [
    {
     "name": "stdout",
     "output_type": "stream",
     "text": [
      "[ 2 -2]\n",
      "[ 1.   0.5]\n",
      "[ 2. -1.]\n",
      "1.0\n",
      "[ 1  2 -2]\n",
      "1.0\n"
     ]
    }
   ],
   "source": [
    "import matplotlib.pyplot as plt\n",
    "import numpy as np\n",
    "import pandas as pd\n",
    "\n",
    "plt.xlabel('x1')\n",
    "plt.ylabel('x2')\n",
    "plt.title('Perceptron learning')\n",
    "\n",
    "#data is label, x1, x2\n",
    "data = np.array([[1,1,1],\n",
    "                 [1,1,2],\n",
    "                 [0,2,-2],\n",
    "                 [0,-2,-1],\n",
    "                 [0,-1,-2],\n",
    "                 [1,-2,1],\n",
    "                 [1,-1,1]])\n",
    "\n",
    "rows = data.shape[0]\n",
    "cols = data.shape[1]\n",
    "\n",
    "\n",
    "L  = data[:, 0]\n",
    "X1 = data[:, 1]\n",
    "X2 = data[:, 2]\n",
    "W  = np.array([0, 1, 0.5])\n",
    "#W  = np.array([0.5,1,0.5])\n",
    "mu = 0.2\n",
    "\n",
    "ax = plt.gca()  # gca stands for 'get current axis'\n",
    "ax.spines['right'].set_color('none')\n",
    "ax.spines['top'].set_color('none')\n",
    "ax.xaxis.set_ticks_position('bottom')\n",
    "ax.spines['bottom'].set_position(('data',0))\n",
    "ax.yaxis.set_ticks_position('left')\n",
    "ax.spines['left'].set_position(('data',0))\n",
    "\n",
    "print(data[2, 1:])\n",
    "print(W[1:])\n",
    "print(np.multiply(data[2, 1:], W[1:]))\n",
    "print(np.sum(np.multiply(data[2, 1:], W[1:])))\n",
    "\n",
    "print(np.concatenate(([1], data[2, 1:])))\n",
    "\n",
    "print(W[1])\n"
   ]
  },
  {
   "cell_type": "code",
   "execution_count": 41,
   "metadata": {
    "collapsed": false
   },
   "outputs": [
    {
     "name": "stdout",
     "output_type": "stream",
     "text": [
      "0.2\n",
      " w0: 0.000000 w1: 0.200000 w2: 1.100000 Error: 0.000000\n",
      "Accuracy: 1.000000\n",
      "Accuracy: 1.000000\n"
     ]
    },
    {
     "data": {
      "image/png": "[encoded data removed]",
      "text/plain": [
       "<matplotlib.figure.Figure at 0x11c6b3320>"
      ]
     },
     "metadata": {},
     "output_type": "display_data"
    }
   ],
   "source": [
    "plt.scatter(X1, X2, c=L)\n",
    "plt.plot (np.arange (-2.5,2.5,0.1), -W[0]/W[2] - W[1]/W[2] * np.arange(-2.5,2.5,0.1))\n",
    "print(W[1])\n",
    "print (\" w0: %f w1: %f w2: %f Error: %f\" %(W[0],W[1],W[2],0))\n",
    "\n",
    "# the HW is asking for the batch processing, so the nested loop should not process one point, but \n",
    "# a batch of points before the weights are updated. Be careful when you are aggregating errors across\n",
    "# multiple data points since the error pre datapoint is +/- 1... \n",
    "for j in range(2): #epochs\n",
    "    accuracy = 0\n",
    "    for i in range(rows): #all data in set\n",
    "        # charge = W[0] + np.sum(np.multiply(data[i, 1:], W[1:]))\n",
    "        charge = W[0] + np.dot(data[i, 1:], W[1:])\n",
    "        predict = 1 if charge > 0 else 0\n",
    "        \n",
    "        if predict == L[i]:\n",
    "            accuracy +=1\n",
    "        else:\n",
    "            Error = predict - L[i]\n",
    "            W_t = W\n",
    "            X_t = np.concatenate(([1], data[i,1:])) #delta weights\n",
    "            W_t = np.multiply(mu, np.multiply(Error, X_t))\n",
    "            W = np.subtract(W, W_t)\n",
    "            print(\"Error:%f charge:%f predict:%f L[i]:%f \"%(Error, charge, predict, L[i]))\n",
    "            plt.plot (np.arange (-2.5,2.5,0.1), -W[0]/W[2] - W[1]/W[2] * np.arange(-2.5,2.5,0.1))\n",
    "    print(\"Accuracy: %f\"%(float(accuracy)/rows))\n",
    "plt.show()\n"
   ]
  },
  {
   "cell_type": "code",
   "execution_count": null,
   "metadata": {
    "collapsed": true
   },
   "outputs": [],
   "source": []
  },
  {
   "cell_type": "code",
   "execution_count": null,
   "metadata": {
    "collapsed": true
   },
   "outputs": [],
   "source": []
  }
 ],
 "metadata": {
  "anaconda-cloud": {},
  "kernelspec": {
   "display_name": "Python 3",
   "language": "python",
   "name": "python3"
  },
  "language_info": {
   "codemirror_mode": {
    "name": "ipython",
    "version": 3
   },
   "file_extension": ".py",
   "mimetype": "text/x-python",
   "name": "python",
   "nbconvert_exporter": "python",
   "pygments_lexer": "ipython3",
   "version": "3.5.2"
  }
 },
 "nbformat": 4,
 "nbformat_minor": 1
}
