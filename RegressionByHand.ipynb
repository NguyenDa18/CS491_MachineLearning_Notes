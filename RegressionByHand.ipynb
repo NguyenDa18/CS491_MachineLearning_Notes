{
 "cells": [
  {
   "cell_type": "code",
   "execution_count": 8,
   "metadata": {
    "collapsed": false
   },
   "outputs": [
    {
     "name": "stdout",
     "output_type": "stream",
     "text": [
      "X: [1723 287 970 910 575 633 885 901 906 1045 688 993 572 775 472 619 239 134\n",
      " 556 295 244 374 200 392 81 118 158 48 44 187]\n",
      "Y: [24.7 24.7 24.4 15.0 21.7 18.6 22.7 15.3 17.6 17.0 21.6 28.3 21.2 16.7 18.9\n",
      " 15.9 20.8 18.8 14.8 18.0 20.3 35.0 22.3 46.4 37.2 45.7 38.6 21.3 45.3 34.0]\n"
     ]
    }
   ],
   "source": [
    "import matplotlib.pyplot as plt\n",
    "import numpy as np\n",
    "import pandas as pd\n",
    "\n",
    "plt.xlabel('income')\n",
    "plt.ylabel('mortality')\n",
    "plt.title('Linear Regression: income vs. infant mortality')\n",
    "\n",
    "data = pd.read_csv('birthrate.dat', header = None)\n",
    "\n",
    "rows = data.shape[0]\n",
    "cols = data.shape[1]\n",
    "\n",
    "data = data.values\n",
    "data = data[np.arange(0, rows), :]\n",
    "\n",
    "X = data[:, 2]\n",
    "print(\"X: \" + str(X))\n",
    "Y = data[:, 1]\n",
    "print(\"Y: \" + str(Y))"
   ]
  },
  {
   "cell_type": "code",
   "execution_count": 24,
   "metadata": {
    "collapsed": false
   },
   "outputs": [
    {
     "name": "stdout",
     "output_type": "stream",
     "text": [
      "X: [1.0 0.1665699361578642 0.562971561230412 0.5281485780615206\n",
      " 0.3337202553685432 0.367382472431805 0.5136390017411492 0.5229251305861868\n",
      " 0.5258270458502612 0.6065002901915264 0.3993035403366222\n",
      " 0.5763203714451538 0.3319791062100987 0.4497968659315148\n",
      " 0.2739408009286129 0.359257109692397 0.138711549622751 0.07777132907719095\n",
      " 0.3226929773650609 0.17121300058038305 0.1416134648868253\n",
      " 0.2170632617527568 0.11607661056297155 0.22751015670342425\n",
      " 0.047011027278003485 0.06848520023215322 0.09170052234474753\n",
      " 0.027858386535113175 0.025536854323853744 0.1085316308763784]\n",
      "Y: [0.5323275862068966 0.5323275862068966 0.5258620689655172\n",
      " 0.3232758620689655 0.4676724137931034 0.4008620689655173\n",
      " 0.4892241379310345 0.32974137931034486 0.37931034482758624\n",
      " 0.3663793103448276 0.4655172413793104 0.6099137931034483\n",
      " 0.45689655172413796 0.3599137931034483 0.4073275862068965\n",
      " 0.3426724137931035 0.4482758620689655 0.4051724137931035\n",
      " 0.31896551724137934 0.3879310344827586 0.43750000000000006\n",
      " 0.7543103448275862 0.4806034482758621 1.0 0.8017241379310346\n",
      " 0.9849137931034484 0.831896551724138 0.45905172413793105\n",
      " 0.9762931034482758 0.7327586206896552]\n",
      " b0: 1.0 b1: -0.5 Error: 0\n"
     ]
    },
    {
     "data": {
      "image/png": "[encoded data removed]",
      "text/plain": [
       "<matplotlib.figure.Figure at 0x11d3e51d0>"
      ]
     },
     "metadata": {},
     "output_type": "display_data"
    }
   ],
   "source": [
    "X_max = np.max(X)\n",
    "Y_max = np.max(Y)\n",
    "X = np.true_divide(X, X_max)\n",
    "Y = np.true_divide(Y, Y_max)\n",
    "plt.xlim(0,max(X))\n",
    "plt.ylim(0,max(Y))\n",
    "print(\"X: \" + str(X))\n",
    "print(\"Y: \" + str(Y))\n",
    "\n",
    "b1 = -0.5\n",
    "b0 = 1.0\n",
    "\n",
    "plt.scatter(X, Y)\n",
    "# plt.plot(X, b1*X + b0)\n",
    "print(\" b0: \" + str(b0) + \" b1: \" + str(b1) + \" Error: \" + str(0))\n",
    "plt.pause(0.1)\n",
    "\n",
    "#batch 1 == iteration 1\n",
    "#United States,24.7,1723,0.12,27.2\n",
    "#Argentina,24.7,287,0.20,62.0\n",
    "#New Zealand,24.4,970,0.19,24.9\n",
    "\n",
    "#normalize to 0,1\n",
    "X1 = 1723 / X_max\n",
    "X2 = 287 / X_max\n",
    "X3 = 970 /X_max\n",
    "Y1 = 24.7 /Y_max\n",
    "Y2 = 24.7/Y_max\n",
    "Y3 = 24.4/Y_max\n",
    "\n",
    "#calculate error - MSE (b1*x1+b0 -y1)**2\n",
    "ERROR = ((b1*X1+b0 - Y1)**2 + (b1*X2+b0 - Y2)**2 + (b1*X3+b0 - Y3)**2)/3\n",
    "#calculate b0 adj b0 = b0 - mu * sum E\n",
    "#\n",
    "b0_temp_error = ((b1*X1+b0 - Y1) + (b1*X2+b0 - Y2) + (b1*X3+b0 - Y3))/3\n",
    "#calculate b1 adj b1 = b1 - mu * sum(E * x1)\n",
    "b1_temp_error = ((b1*X1+b0 - Y1) *X1 + (b1*X2+b0 - Y2)*X2 + (b1*X3+b0 - Y3)*X3)/3\n",
    "#adjust bo and b1 --- b_i = old b_i - learning * Error * input_discount\n",
    "b0 = -1\n",
    "b1 = 0.5\n",
    "# plt.plot (X, b1*X + b0)\n",
    "\n",
    "\n",
    "\n",
    "# #batch 2 == iteration 2\n",
    "# #Venezuela,46.4,392,0.40,68.5\n",
    "# #Mexico,45.7,118,0.61,87.8\n",
    "# #Ecuador,45.3,44,0.53,115.8\n",
    "# X1 = 392/X_max\n",
    "# X2 = 118/X_max\n",
    "# X3 = 44/X_max\n",
    "# Y1 = 46.4/Y_max\n",
    "# Y2 = 45.7/Y_max\n",
    "# Y3 = 45.3/Y_max\n",
    "# plt.scatter([X1, X2, X3],[Y1,Y2,Y3])\n",
    "\n",
    "# plt.plot (X, b1*X + b0)\n",
    "\n",
    "# #Greece,18.8,134,0.52,47.4\n",
    "# #Norway,18.6,633,0.19,21.7\n",
    "# #Italy,18.0,295,0.44,55.7\n",
    "# X1 = 134/X_max\n",
    "# X2 = 633/X_max\n",
    "# X3 = 295/X_max\n",
    "# Y1 = 18.8/Y_max\n",
    "# Y2 = 18.6/Y_max\n",
    "# Y3 = 18.0/Y_max\n",
    "# plt.scatter([X1, X2, X3],[Y1,Y2,Y3])\n",
    "\n",
    "# plt.plot (X, b1*X + b0)\n",
    "\n",
    "plt.show()\n"
   ]
  },
  {
   "cell_type": "code",
   "execution_count": null,
   "metadata": {
    "collapsed": true
   },
   "outputs": [],
   "source": []
  }
 ],
 "metadata": {
  "anaconda-cloud": {},
  "kernelspec": {
   "display_name": "Python 3",
   "language": "python",
   "name": "python3"
  },
  "language_info": {
   "codemirror_mode": {
    "name": "ipython",
    "version": 3
   },
   "file_extension": ".py",
   "mimetype": "text/x-python",
   "name": "python",
   "nbconvert_exporter": "python",
   "pygments_lexer": "ipython3",
   "version": "3.5.2"
  }
 },
 "nbformat": 4,
 "nbformat_minor": 1
}
