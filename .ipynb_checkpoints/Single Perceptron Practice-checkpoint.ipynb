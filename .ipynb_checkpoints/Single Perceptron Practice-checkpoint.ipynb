{
 "cells": [
  {
   "cell_type": "markdown",
   "metadata": {},
   "source": [
    "# Perceptron\n",
    "- Input values $ (1,x_1,x_2,...,x_n) $\n",
    "- multiplied by respective weights\n",
    "$ (w_0, w_1, w_2,..., w_n) $\n",
    "- Entire expression is summed together inside the neuron\n",
    "$ (w_0 + x_1w_1 + x_2w_2 + ... + x_nw_n)  $\n",
    "- If sum is larger than specified threshold (activation function) step function outputs 1, otherwise outputs 0"
   ]
  },
  {
   "cell_type": "markdown",
   "metadata": {},
   "source": [
    "## Sources\n",
    "- https://www.youtube.com/watch?v=OVHc-7GYRo4"
   ]
  },
  {
   "cell_type": "code",
   "execution_count": 10,
   "metadata": {
    "collapsed": false
   },
   "outputs": [
    {
     "name": "stdout",
     "output_type": "stream",
     "text": [
      "[ 1  1  2 -2 -1 -2 -1]\n",
      "[ 1  2 -2 -1 -2  1  1]\n",
      " w0: 0.000000 w1: 1.000000 w2: 0.500000 Error: 0.000000\n",
      "[ 0.2  0.4 -0.4]\n",
      "Error:1.000000 charge:1.000000 predict:1.000000 L[i]:0.000000 \n",
      "[-0.2  0.4 -0.2]\n",
      "Error:-1.000000 charge:-0.500000 predict:0.000000 L[i]:1.000000 \n",
      "Accuracy: 0.714286\n",
      "Accuracy: 1.000000\n"
     ]
    },
    {
     "data": {
      "image/png": "[encoded data removed]",
      "text/plain": [
       "<matplotlib.figure.Figure at 0x11c670828>"
      ]
     },
     "metadata": {},
     "output_type": "display_data"
    }
   ],
   "source": [
    "import matplotlib.pyplot as plt\n",
    "import numpy as np\n",
    "import pandas as pd\n",
    "\n",
    "plt.xlabel('x1')\n",
    "plt.ylabel('x2')\n",
    "plt.title('Perceptron learning')\n",
    "\n",
    "#data is label, x1, x2\n",
    "data = np.array([[1,1,1],\n",
    "                 [1,1,2],\n",
    "                 [0,2,-2],\n",
    "                 [0,-2,-1],\n",
    "                 [0,-1,-2],\n",
    "                 [1,-2,1],\n",
    "                 [1,-1,1]])\n",
    "\n",
    "rows = data.shape[0]\n",
    "cols = data.shape[1]\n",
    "\n",
    "\n",
    "L  = data[:, 0]\n",
    "X1 = data[:, 1]\n",
    "X2 = data[:, 2]\n",
    "W  = np.array([0, 1, 0.5])\n",
    "#W  = np.array([0.5,1,0.5])\n",
    "mu = 0.2\n",
    "\n",
    "ax = plt.gca()  # gca stands for 'get current axis'\n",
    "ax.spines['right'].set_color('none')\n",
    "ax.spines['top'].set_color('none')\n",
    "ax.xaxis.set_ticks_position('bottom')\n",
    "ax.spines['bottom'].set_position(('data',0))\n",
    "ax.yaxis.set_ticks_position('left')\n",
    "ax.spines['left'].set_position(('data',0))\n",
    "\n",
    "print(X1)\n",
    "print(X2)\n",
    "\n",
    "plt.scatter(X1, X2, c=L)\n",
    "plt.plot (np.arange (-2.5,2.5,0.1), -W[0]/W[2] - W[1]/W[2] * np.arange(-2.5,2.5,0.1))\n",
    "print (\" w0: %f w1: %f w2: %f Error: %f\" %(W[0],W[1],W[2],0))\n",
    "\n",
    "# the HW is asking for the batch processing, so the nested loop should not process one point, but \n",
    "# a batch of points before the weights are updated. Be careful when you are aggregating errors across\n",
    "# multiple data points since the error pre datapoint is +/- 1... \n",
    "for j in range(2): #epochs\n",
    "\taccuracy = 0\n",
    "\tfor i in range(rows): #all data in set\n",
    "\t\tcharge = W[0] + np.sum(np.multiply(data[i, 1:], W[1:]))\n",
    "\t\tpredict = 1 if charge > 0 else 0\n",
    "\t\tif predict == L[i]:\n",
    "\t\t\taccuracy +=1\n",
    "\t\telse:\n",
    "\t\t\tError = predict - L[i]\n",
    "\t\t\tW_t = W\n",
    "\t\t\tX_t = np.concatenate(([1], data[i,1:])) #delta weights\n",
    "\t\t\tW_t = np.multiply(mu, np.multiply(Error, X_t))\n",
    "\t\t\tW = np.subtract(W, W_t)\n",
    "\t\t\tprint(W_t)\n",
    "\t\t\tprint(\"Error:%f charge:%f predict:%f L[i]:%f \"%(Error, charge, predict, L[i]))\n",
    "\t\t\tplt.plot (np.arange (-2.5,2.5,0.1), -W[0]/W[2] - W[1]/W[2] * np.arange(-2.5,2.5,0.1))\n",
    "\tprint(\"Accuracy: %f\"%(float(accuracy)/rows))\n",
    "plt.show()\n"
   ]
  },
  {
   "cell_type": "code",
   "execution_count": 11,
   "metadata": {
    "collapsed": false
   },
   "outputs": [
    {
     "name": "stdout",
     "output_type": "stream",
     "text": [
      "[-1  1  2 -2  1]\n",
      "[ 2  1  1 -1 -1]\n",
      " w0: 0.700000 w1: 0.500000 w2: 1.000000 Error: 0.000000\n",
      "[ 0.2  0.2 -0.2]\n",
      "Error:1.000000 charge:0.200000 predict:1.000000 L[i]:0.000000 \n",
      "Accuracy: 0.800000\n",
      "Accuracy: 1.000000\n"
     ]
    },
    {
     "data": {
      "image/png": "[encoded data removed]",
      "text/plain": [
       "<matplotlib.figure.Figure at 0x11c675630>"
      ]
     },
     "metadata": {},
     "output_type": "display_data"
    }
   ],
   "source": [
    "import matplotlib.pyplot as plt\n",
    "import numpy as np\n",
    "import pandas as pd\n",
    "\n",
    "plt.xlabel('x1')\n",
    "plt.ylabel('x2')\n",
    "plt.title('Perceptron learning')\n",
    "\n",
    "#data is label, x1, x2\n",
    "data = np.array([[1,-1,2],\n",
    "                 [1,1,1],\n",
    "                 [1,2,1],\n",
    "                 [0,-2,-1],\n",
    "                 [0,1,-1]])\n",
    "\n",
    "rows = data.shape[0]\n",
    "cols = data.shape[1]\n",
    "\n",
    "L  = data[:, 0]\n",
    "X1 = data[:, 1]\n",
    "X2 = data[:, 2]\n",
    "W  = np.array([0.7, 0.5, 1.0])\n",
    "mu = 0.2\n",
    "\n",
    "ax = plt.gca()  # gca stands for 'get current axis'\n",
    "ax.spines['right'].set_color('none')\n",
    "ax.spines['top'].set_color('none')\n",
    "ax.xaxis.set_ticks_position('bottom')\n",
    "ax.spines['bottom'].set_position(('data',0))\n",
    "ax.yaxis.set_ticks_position('left')\n",
    "ax.spines['left'].set_position(('data',0))\n",
    "\n",
    "print(X1)\n",
    "print(X2)\n",
    "\n",
    "plt.scatter(X1, X2, c=L)\n",
    "plt.plot (np.arange (-2.5,2.5,0.1), -W[0]/W[2] - W[1]/W[2] * np.arange(-2.5,2.5,0.1))\n",
    "print (\" w0: %f w1: %f w2: %f Error: %f\" %(W[0],W[1],W[2],0))\n",
    "\n",
    "# the HW is asking for the batch processing, so the nested loop should not process one point, but \n",
    "# a batch of points before the weights are updated. Be careful when you are aggregating errors across\n",
    "# multiple data points since the error pre datapoint is +/- 1... \n",
    "for j in range(2): #epochs\n",
    "\taccuracy = 0\n",
    "\tfor i in range(rows): #all data in set\n",
    "\t\tcharge = W[0] + np.sum(np.multiply(data[i, 1:], W[1:]))\n",
    "\t\tpredict = 1 if charge > 0 else 0\n",
    "\t\tif predict == L[i]:\n",
    "\t\t\taccuracy +=1\n",
    "\t\telse:\n",
    "\t\t\tError = predict - L[i]\n",
    "\t\t\tW_t = W\n",
    "\t\t\tX_t = np.concatenate(([1], data[i,1:])) #delta weights\n",
    "\t\t\tW_t = np.multiply(mu, np.multiply(Error, X_t))\n",
    "\t\t\tW = np.subtract(W, W_t)\n",
    "\t\t\tprint(W_t)\n",
    "\t\t\tprint(\"Error:%f charge:%f predict:%f L[i]:%f \"%(Error, charge, predict, L[i]))\n",
    "\t\t\tplt.plot (np.arange (-2.5,2.5,0.1), -W[0]/W[2] - W[1]/W[2] * np.arange(-2.5,2.5,0.1))\n",
    "\tprint(\"Accuracy: %f\"%(float(accuracy)/rows))\n",
    "plt.show()\n"
   ]
  },
  {
   "cell_type": "code",
   "execution_count": null,
   "metadata": {
    "collapsed": true
   },
   "outputs": [],
   "source": []
  }
 ],
 "metadata": {
  "anaconda-cloud": {},
  "kernelspec": {
   "display_name": "Python 3",
   "language": "python",
   "name": "python3"
  },
  "language_info": {
   "codemirror_mode": {
    "name": "ipython",
    "version": 3
   },
   "file_extension": ".py",
   "mimetype": "text/x-python",
   "name": "python",
   "nbconvert_exporter": "python",
   "pygments_lexer": "ipython3",
   "version": "3.5.2"
  }
 },
 "nbformat": 4,
 "nbformat_minor": 1
}
