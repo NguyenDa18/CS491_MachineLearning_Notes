{
 "cells": [
  {
   "cell_type": "code",
   "execution_count": 1,
   "metadata": {
    "collapsed": false
   },
   "outputs": [
    {
     "data": {
      "text/plain": [
       "(0, 1.0)"
      ]
     },
     "execution_count": 1,
     "metadata": {},
     "output_type": "execute_result"
    }
   ],
   "source": [
    "import matplotlib.pyplot as plt\n",
    "import numpy as np\n",
    "import pandas as pd\n",
    "from functools import reduce\n",
    "\n",
    "plt.xlabel('income')\n",
    "plt.ylabel('mortality')\n",
    "plt.title('Linear Regression income vs. infant mortality')\n",
    "\n",
    "data = pd.read_csv('birthrate.dat', header=None)\n",
    "\n",
    "rows = data.shape[0]\n",
    "cols = data.shape[1]\n",
    "\n",
    "data = data.values\n",
    "data = data[np.arange(0,rows), :]\n",
    "\n",
    "X = data[:, 2]\n",
    "Y = data[:, 1]\n",
    "X_max = np.max(X)\n",
    "Y_max = np.max(Y)\n",
    "\n",
    "X = np.true_divide(X, X_max)\n",
    "Y = np.true_divide(Y, Y_max)\n",
    "plt.xlim(0, max(X))\n",
    "plt.ylim(0, max(Y))"
   ]
  },
  {
   "cell_type": "code",
   "execution_count": 11,
   "metadata": {
    "collapsed": false
   },
   "outputs": [],
   "source": [
    "import matplotlib.pyplot as plt\n",
    "from functools import reduce\n",
    "\n",
    "b2 = 1.0\n",
    "b1 = 1.0\n",
    "b0 = -0.5\n",
    "learn = 0.1\n",
    "\n",
    "def mse(X,Y):\n",
    "    myList = []\n",
    "    for (row, col) in zip(X,Y):\n",
    "        print(row)\n",
    "        print(col)\n",
    "        myList = myList + ((b2*row**2 + b1*row+b0 - col)**2)\n",
    "#     ERROR = reduce((lambda x,y: x + y), myList)\n",
    "#     print(ERROR)\n",
    "\n",
    "\n",
    "# normalize to 0,1\n",
    "X = map(lambda el: el / X_max, X)\n",
    "Y = map(lambda el: el / Y_max, Y)\n",
    "\n",
    "for i in range(3):\n",
    "    # calculate error - MSE (b1*x1+b0 -y1)**2\n",
    "    ERROR = mse(X, Y)\n",
    "    \n",
    "    \n"
   ]
  },
  {
   "cell_type": "code",
   "execution_count": null,
   "metadata": {
    "collapsed": true
   },
   "outputs": [],
   "source": []
  }
 ],
 "metadata": {
  "kernelspec": {
   "display_name": "Python 3",
   "language": "python",
   "name": "python3"
  },
  "language_info": {
   "codemirror_mode": {
    "name": "ipython",
    "version": 3
   },
   "file_extension": ".py",
   "mimetype": "text/x-python",
   "name": "python",
   "nbconvert_exporter": "python",
   "pygments_lexer": "ipython3",
   "version": "3.5.2"
  }
 },
 "nbformat": 4,
 "nbformat_minor": 1
}
