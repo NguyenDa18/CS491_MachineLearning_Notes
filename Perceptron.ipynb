{
 "cells": [
  {
   "cell_type": "code",
   "execution_count": 4,
   "metadata": {
    "collapsed": false,
    "scrolled": true
   },
   "outputs": [
    {
     "name": "stdout",
     "output_type": "stream",
     "text": [
      "[[ 1  1  1]\n",
      " [ 1  1  2]\n",
      " [-1  2 -2]\n",
      " [ 1 -1  1]\n",
      " [-1 -1 -2]\n",
      " [ 1 -2  1]\n",
      " [-1 -2 -1]]\n",
      "[ 0.5  1.   0.5]\n"
     ]
    }
   ],
   "source": [
    "import matplotlib.pyplot as plt\n",
    "import numpy as np\n",
    "import pandas as pd\n",
    "\n",
    "data = np.array([[1,1,1],[1,1,2],[-1,2,-2],[1,-1,1],[-1,-1,-2],[1,-2,1],[-1,-2,-1]])\n",
    "\n",
    "rows\t\t\t\t\t\t\t\t\t\t\t\t\t\t\t\t\t\t\t\t\t\t\t\t\t\t\t\t\t\t\t\t\t\t\t\t\t\t\t\t\t\t\t\t\t\t\t\t\t\t\t\t\t\t\t\t\t\t\t\t\t\t\t\t\t\t\t\t\t\t\t\t\t\t\t\t\t\t\t\t\t\t\t\t\t\t\t\t\t\t\t\t\t\t\t\t\t\t\t\t\t\t\t\t\t\t\t\t\t\t\t\t\t\t\t\t\t\t\t\t\t\t\t\t\t\t\t\t\t\t\t\t\t\t\t\t\t\t\t\t = data.shape[0]\n",
    "cols = data.shape[1]\n",
    "\n",
    "L  = data[:, 0]\n",
    "X1 = data[:, 1]\n",
    "X2 = data[:, 2]\n",
    "W  = np.array([0.5,1,0.5])\n",
    "mu = 0.2\n",
    "\n",
    "print(data)\n",
    "print(W)"
   ]
  },
  {
   "cell_type": "code",
   "execution_count": 25,
   "metadata": {
    "collapsed": false
   },
   "outputs": [
    {
     "name": "stdout",
     "output_type": "stream",
     "text": [
      "[ 1  1  2 -1 -1 -2 -2]\n",
      "[ 1  2 -2  1 -2  1 -1]\n",
      " w0: 0.500000 w1: 1.000000 w2: 0.500000 Error: 0.000000\n",
      "Right\n",
      "1\n",
      "[ 2.  1.]\n"
     ]
    },
    {
     "data": {
      "image/png": "[encoded data removed]",
      "text/plain": [
       "<matplotlib.figure.Figure at 0x11e169748>"
      ]
     },
     "metadata": {},
     "output_type": "display_data"
    }
   ],
   "source": [
    "plt.xlabel('x1')\n",
    "plt.ylabel('x2')\n",
    "plt.title('Perceptron learning')\n",
    "\n",
    "ax = plt.gca()  # gca stands for 'get current axis'\n",
    "ax.spines['right'].set_color('none')\n",
    "ax.spines['top'].set_color('none')\n",
    "ax.xaxis.set_ticks_position('bottom')\n",
    "ax.spines['bottom'].set_position(('data',0))\n",
    "ax.yaxis.set_ticks_position('left')\n",
    "ax.spines['left'].set_position(('data',0))\n",
    "\n",
    "print(X1)\n",
    "print(X2)\n",
    "\n",
    "plt.scatter(X1, X2, c=L)\n",
    "plt.plot (np.arange (-2.5,2.5,0.1), -W[0]/W[2] - W[1]/W[2] * np.arange(-2.5,2.5,0.1))\n",
    "print (\" w0: %f w1: %f w2: %f Error: %f\" %(W[0],W[1],W[2],0))\n",
    "\n",
    "i = 0\n",
    "\n",
    "# p = b0 + sum(w_i * x_i)\n",
    "\n",
    "charge = W[0] + np.sum(np.multiply(data[1], W))\n",
    "\n",
    "if charge > 0:\n",
    "    predict = 1\n",
    "else:\n",
    "    predict = 0\n",
    "\n",
    "accuracy = 0\n",
    "if predict == L[i]:\n",
    "    print(\"Right\")\n",
    "    accuracy+=1\n",
    "else:\n",
    "    Error = predict - L[i]\n",
    "    W_t = W\n",
    "    X_t = np.concatenate(([1], data[i,1:]))\n",
    "    W_t = np.multiply(mu, np.multiply(Error, X_t))\n",
    "    W = np.subtract(W, W_t)\n",
    "    print(W_t)\n",
    "    print('Error: %f charge: %f predict: %f Label[i]: %f ' % (Error, charge, predict, L[i]))\n",
    "    plt.plot (np.arange (-2.5,2.5,0.1), -W[0]/W[2] - W[1]/W[2] * np.arange(-2.5,2.5,0.1))\n",
    "    \n",
    "    \n",
    "print(predict)\n",
    "\n",
    "\n",
    "print(np.multiply(data[1,2:], W[1:]))\n",
    "\n",
    "\n",
    "\n",
    "\n",
    "\n",
    "plt.show()\n"
   ]
  },
  {
   "cell_type": "code",
   "execution_count": null,
   "metadata": {
    "collapsed": true
   },
   "outputs": [],
   "source": []
  }
 ],
 "metadata": {
  "kernelspec": {
   "display_name": "Python 3",
   "language": "python",
   "name": "python3"
  },
  "language_info": {
   "codemirror_mode": {
    "name": "ipython",
    "version": 3
   },
   "file_extension": ".py",
   "mimetype": "text/x-python",
   "name": "python",
   "nbconvert_exporter": "python",
   "pygments_lexer": "ipython3",
   "version": "3.5.2"
  }
 },
 "nbformat": 4,
 "nbformat_minor": 1
}
