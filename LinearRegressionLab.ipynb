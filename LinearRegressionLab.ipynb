{
 "cells": [
  {
   "cell_type": "markdown",
   "metadata": {},
   "source": [
    "# Building a simple linear regression model\n",
    "\n",
    "- Build regression model that will use following datapoints to train model using gradient descent optimization\n",
    "\n",
    "### Country, income, mortality\n",
    "- Hungary,200,65.7\n",
    "- Japan,239,46.7\n",
    "- France,472,44.4\n",
    "- Australia,885,22.9\n",
    "- Switzerland,1045,28.5\n",
    "- Finland,688,32.4\n",
    "- Canada,993,33.7\n",
    "\n",
    "### Complete 50 learning epochs using above datapoints\n",
    "\n",
    "### Use following datapoints to measure model's prediction error as MSE. Model predictions should be compared w.r.t. measured infant mortality values:\n",
    "- Greece,134,47.4\n",
    "- Austria,556,49.1\n",
    "- Italy,295,55.7\n",
    "- Denmark,906,27.1"
   ]
  },
  {
   "cell_type": "code",
   "execution_count": 8,
   "metadata": {
    "collapsed": false
   },
   "outputs": [
    {
     "name": "stdout",
     "output_type": "stream",
     "text": [
      "row 1.0\n",
      "col 1.0\n",
      "row 0.166569936158\n",
      "col 1.0\n",
      "row 0.56297156123\n",
      "col 0.987854251012\n",
      "0.774803351291\n"
     ]
    }
   ],
   "source": [
    "import numpy as np\n",
    "import pandas as pd\n",
    "import matplotlib.pyplot as plt\n",
    "from functools import reduce\n",
    "    \n",
    "def mse(X,Y):\n",
    "    b2 = 1.0\n",
    "    b1 = 1.0\n",
    "    b0 = -0.5\n",
    "    myList = []\n",
    "    for (row, col) in zip(X,Y):\n",
    "        print(\"row \" + str(row))\n",
    "        print(\"col \" + str(col))\n",
    "        val = (b2*row**2 + b1*row+b0 - col)**2\n",
    "        myList.append(val)  \n",
    "    ERROR_SUM = reduce((lambda x,y: x + y), myList)\n",
    "\n",
    "    \n",
    "    \n",
    "    \n",
    "\n",
    "# X = [200,239,472,885,1045,688,993]\n",
    "# Y = [65.7,46.7,44.4,22.9,28.5,32.4,33.7]\n",
    "\n",
    "X = [1723, 287, 970]\n",
    "Y = [24.7, 24.7, 24.4]\n",
    "\n",
    "X_max = np.max(X)\n",
    "Y_max = np.max(Y)\n",
    "\n",
    "X = map(lambda el: el / X_max, X)\n",
    "Y = map(lambda el: el / Y_max, Y)\n",
    "\n",
    "mse(X,Y)\n",
    "        \n",
    "\n",
    "\n",
    "\n",
    "\n"
   ]
  },
  {
   "cell_type": "markdown",
   "metadata": {},
   "source": [
    "# Review Questions\n",
    "1. What are the model’s parameter values and measured MSE for the test datapoints at the\n",
    "end of the optimization process when the starting parameter values are b0 = 1 and b1 = 1:\n",
    "\n",
    "2. Repeat the above optimization, but set the starting parameter values to b0 = -1 and b1\n",
    "= -1. Again, report the final parameter values and the model’s MSE:\n",
    "\n",
    "3. Is there a discrepancy in the reported MSE values in (1) and (2)? Why/Why Not."
   ]
  },
  {
   "cell_type": "code",
   "execution_count": null,
   "metadata": {
    "collapsed": true
   },
   "outputs": [],
   "source": []
  }
 ],
 "metadata": {
  "anaconda-cloud": {},
  "kernelspec": {
   "display_name": "Python 3",
   "language": "python",
   "name": "python3"
  },
  "language_info": {
   "codemirror_mode": {
    "name": "ipython",
    "version": 3
   },
   "file_extension": ".py",
   "mimetype": "text/x-python",
   "name": "python",
   "nbconvert_exporter": "python",
   "pygments_lexer": "ipython3",
   "version": "3.5.2"
  }
 },
 "nbformat": 4,
 "nbformat_minor": 1
}
