{
 "cells": [
  {
   "cell_type": "markdown",
   "metadata": {},
   "source": [
    "# Linear Regression By Hand\n",
    "- Gradient Descent Optimization\n",
    "- Mean Squared Error for Error Loss function"
   ]
  },
  {
   "cell_type": "code",
   "execution_count": 5,
   "metadata": {
    "collapsed": false
   },
   "outputs": [
    {
     "name": "stdout",
     "output_type": "stream",
     "text": [
      "[1723 287 970]\n",
      "[24.7 24.7 24.4 15.0 21.7 18.6 22.7 15.3 17.6 17.0 21.6 28.3 21.2 16.7 18.9\n",
      " 15.9 20.8 18.8 14.8 18.0 20.3 35.0 22.3 46.4 37.2 45.7 38.6 21.3 45.3 34.0]\n"
     ]
    },
    {
     "data": {
      "text/plain": [
       "(0, 1.0)"
      ]
     },
     "execution_count": 5,
     "metadata": {},
     "output_type": "execute_result"
    }
   ],
   "source": [
    "import matplotlib.pyplot as plt\n",
    "import numpy as np\n",
    "import pandas as pd\n",
    "\n",
    "plt.xlabel('income')\n",
    "plt.ylabel('mortality')\n",
    "plt.title('Linear Regression income vs. infant mortality')\n",
    "\n",
    "data = pd.read_csv('birthrate.dat', header=None)\n",
    "\n",
    "rows = data.shape[0]\n",
    "cols = data.shape[1]\n",
    "\n",
    "data = data.values\n",
    "data = data[np.arange(0,rows), :]\n",
    "\n",
    "X = data[:, 2]\n",
    "Y = data[:, 1]\n",
    "\n",
    "X_max = np.max(X)\n",
    "Y_max = np.max(Y)\n",
    "\n",
    "X = np.true_divide(X, X_max)\n",
    "Y = np.true_divide(Y, Y_max)\n",
    "plt.xlim(0, max(X))\n",
    "plt.ylim(0, max(Y))"
   ]
  },
  {
   "cell_type": "code",
   "execution_count": 8,
   "metadata": {
    "collapsed": false
   },
   "outputs": [
    {
     "name": "stdout",
     "output_type": "stream",
     "text": [
      "-0.005431073868397214\n",
      " b0: -0.4994568926131603 b1: 0.9751360965116608 b2: 0.9700612252727686 Error: 0.5533188745134242\n",
      "-0.032641733144055794\n",
      " b0: -0.4961927192987547 b1: 0.9525359843443151 b2: 0.9421775848701117 Error: 0.5241854672387963\n"
     ]
    },
    {
     "data": {
      "image/png": "[encoded data removed]",
      "text/plain": [
       "<matplotlib.figure.Figure at 0x11cd38978>"
      ]
     },
     "metadata": {},
     "output_type": "display_data"
    }
   ],
   "source": [
    "#batch 1 == iteration 1\n",
    "#United States,24.7,1723,0.12,27.2\n",
    "#Argentina,24.7,287,0.20,62.0\n",
    "#New Zealand,24.4,970,0.19,24.9\n",
    "\n",
    "b2 = 1.0\n",
    "b1 = 1.0\n",
    "b0 = -0.5\n",
    "\n",
    "learn = 0.1\n",
    "\n",
    "plt.scatter(X, Y)\n",
    "plt.pause(0.1);\n",
    "\n",
    "sample_X = X[0:3]\n",
    "sample_Y = Y[0:3]\n",
    "\n",
    "sample_X = map(lambda el: el / X_max, X)\n",
    "sample_Y = map(lambda el: el / Y_max, Y)\n",
    "\n",
    "# run for as many learning epochs as needed in a loop\n",
    "for i in range(2):\n",
    "    #calculate error - MSE (b1*x1+b0 -y1)**2\n",
    "    ERROR = ((b2*X1**2+ b1*X1+b0 - Y1)**2 + (b2*X2**2+ b1*X2+b0 - Y2)**2 + (b2*X3**2+ b1*X3+b0 - Y3)**2)/3\n",
    "    #calculate b0 adj b0 = b0 - mu * sum E\n",
    "    #\n",
    "    b0_temp_error = ((b2*X1**2+b1*X1+b0 - Y1) + (b2*X2**2+b1*X2+b0 - Y2) + (b2*X3**2+b1*X3+b0 - Y3))/3\n",
    "    print(b0_temp_error)\n",
    "    #calculate b1 adj b1 = b1 - mu * sum(E * x1)\n",
    "    b1_temp_error = ((b2*X1**2+b1*X1+b0 - Y1) *X1 + (b2*X2**2+b1*X2+b0 - Y2)*X2 + (b2*X3**2+b1*X3+b0 - Y3)*X3)/3\n",
    "\n",
    "    b2_temp_error = ((b2*X1**2+b1*X1+b0 - Y1) *X1**2 + (b2*X2**2+b1*X2+b0 - Y2)*X2**2 + (b2*X3**2+b1*X3+b0 - Y3)*X3**2)/3\n",
    "    #adjust bo and b1 --- b_i = old b_i - learning * error loss derivative\n",
    "    b0 = b0 - learn * b0_temp_error\n",
    "    b1 = b1 - learn * b1_temp_error\n",
    "    b2 = b2 - learn * b2_temp_error\n",
    "    print(\" b0: \" + str(b0) + \" b1: \" + str(b1) + \" b2: \" + str(b2) + \" Error: \" + str(ERROR))\n",
    "\n",
    "    # How to plot the graph\n",
    "    X_test = np.arange(0,1,0.1)\n",
    "    plt.plot (X_test, b2*X_test**2+ b1*X_test + b0)\n",
    "    plt.pause(0.1)\n",
    "\n",
    "\n",
    "plt.show()"
   ]
  },
  {
   "cell_type": "code",
   "execution_count": null,
   "metadata": {
    "collapsed": true
   },
   "outputs": [],
   "source": []
  }
 ],
 "metadata": {
  "anaconda-cloud": {},
  "kernelspec": {
   "display_name": "Python 3",
   "language": "python",
   "name": "python3"
  },
  "language_info": {
   "codemirror_mode": {
    "name": "ipython",
    "version": 3
   },
   "file_extension": ".py",
   "mimetype": "text/x-python",
   "name": "python",
   "nbconvert_exporter": "python",
   "pygments_lexer": "ipython3",
   "version": "3.5.2"
  }
 },
 "nbformat": 4,
 "nbformat_minor": 1
}
